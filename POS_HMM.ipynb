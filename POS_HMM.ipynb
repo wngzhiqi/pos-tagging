{
 "cells": [
  {
   "cell_type": "code",
   "execution_count": 1,
   "metadata": {
    "collapsed": true
   },
   "outputs": [],
   "source": [
    "import numpy as np\n",
    "train_file = '../pos-data/train_set.npy'\n",
    "test_file = '../pos-data/test_set.npy'\n",
    "vocab_file = '../pos-data/vocab.txt'\n",
    "tagset_file = '../pos-data/tagset.txt'"
   ]
  },
  {
   "cell_type": "code",
   "execution_count": 2,
   "metadata": {
    "collapsed": true,
    "scrolled": true
   },
   "outputs": [],
   "source": [
    "train_data = np.load(train_file)\n",
    "test_data = np.load(test_file)\n",
    "vocabs = {}\n",
    "num = 0\n",
    "with open(vocab_file, 'r') as f: \n",
    "    for vocab in f.readlines():\n",
    "        raw_vocab = vocab.strip()\n",
    "        vocabs[raw_vocab] = num\n",
    "        num += 1\n",
    "tags = {}\n",
    "num = 0\n",
    "with open(tagset_file, 'r') as f:\n",
    "    for tag in f.readlines():\n",
    "        raw_tag = tag.strip()\n",
    "        tags[raw_tag] = num\n",
    "        num += 1\n",
    "\n",
    "def preprocess(train_data):\n",
    "    processed_data = []\n",
    "    for sentence in train_data:\n",
    "        processed_sen = []\n",
    "        for word in sentence:\n",
    "            tag = tags[word[1]]\n",
    "            observe = vocabs[word[0]]\n",
    "            processed_sen.append((observe, tag))\n",
    "        processed_data.append(processed_sen)\n",
    "    return processed_data"
   ]
  },
  {
   "cell_type": "code",
   "execution_count": 3,
   "metadata": {
    "collapsed": true
   },
   "outputs": [],
   "source": [
    "processed_train_data = preprocess(train_data)"
   ]
  },
  {
   "cell_type": "code",
   "execution_count": 4,
   "metadata": {
    "collapsed": true
   },
   "outputs": [],
   "source": [
    "tags_num = len(tags)\n",
    "vocabs_num = len(vocabs)\n",
    "transition_matrix = np.zeros((tags_num, tags_num))\n",
    "emit_matrix = np.ones((tags_num, vocabs_num)) * 0.01\n",
    "init_state_matrix = np.zeros(tags_num)"
   ]
  },
  {
   "cell_type": "code",
   "execution_count": 5,
   "metadata": {
    "collapsed": true
   },
   "outputs": [],
   "source": [
    "for sentence in processed_train_data:\n",
    "    init_state_matrix[sentence[0][1]] += 1\n",
    "    for i in range(len(sentence)):\n",
    "        word = sentence[i]\n",
    "        emit_matrix[word[1]][word[0]] += 1\n",
    "        if i != (len(sentence) - 1):\n",
    "            next_tag = sentence[i+1][1]\n",
    "            transition_matrix[word[1]][next_tag] += 1"
   ]
  },
  {
   "cell_type": "code",
   "execution_count": 6,
   "metadata": {
    "collapsed": true
   },
   "outputs": [],
   "source": [
    "emit_matrix = emit_matrix / np.sum(emit_matrix, axis=1, keepdims=True)\n",
    "transition_matrix = transition_matrix / np.sum(transition_matrix, axis=1, keepdims=True)\n",
    "init_state_matrix = init_state_matrix / np.sum(init_state_matrix)"
   ]
  },
  {
   "cell_type": "code",
   "execution_count": 7,
   "metadata": {},
   "outputs": [
    {
     "data": {
      "text/plain": [
       "array([[1.02232855e-01, 4.59330144e-02, 7.08133971e-02, 5.47049442e-02,\n",
       "        5.98086124e-02, 1.41626794e-01, 1.85645933e-01, 1.15470494e-01,\n",
       "        6.23604466e-02, 3.34928230e-03, 1.31100478e-01, 2.69537480e-02],\n",
       "       [6.45286686e-02, 6.70553936e-02, 7.81341108e-02, 4.47035957e-03,\n",
       "        1.76870748e-02, 5.05344995e-03, 6.97376093e-01, 2.11856171e-02,\n",
       "        5.83090379e-04, 1.04956268e-02, 1.28279883e-02, 2.06025267e-02],\n",
       "       [3.93079761e-02, 1.07747106e-01, 1.70461773e-02, 1.27210279e-02,\n",
       "        6.36051393e-04, 3.23877369e-01, 3.23750159e-01, 6.38595599e-02,\n",
       "        6.60221346e-02, 1.27210279e-03, 8.65029894e-03, 3.51100369e-02],\n",
       "       [1.37701059e-01, 1.30639466e-01, 1.20047077e-01, 8.04236956e-02,\n",
       "        7.84621420e-03, 6.66928207e-02, 3.13848568e-02, 2.86386818e-02,\n",
       "        1.45154963e-02, 1.33385641e-02, 3.47587289e-01, 2.11847783e-02],\n",
       "       [3.10765816e-02, 1.17647059e-01, 5.43840178e-02, 5.82685905e-02,\n",
       "        5.54938957e-04, 1.09877913e-01, 3.55160932e-01, 4.16204218e-02,\n",
       "        5.99334073e-02, 4.99445061e-03, 1.57602664e-01, 8.87902331e-03],\n",
       "       [1.77591684e-02, 2.06612763e-01, 8.80739243e-03, 1.32832804e-02,\n",
       "        5.77533930e-04, 5.91972278e-03, 6.35142940e-01, 2.25238233e-02,\n",
       "        3.75397055e-03, 2.88766965e-04, 4.04273751e-02, 4.49032631e-02],\n",
       "       [2.40490904e-01, 1.22290887e-02, 1.77474106e-01, 1.66245974e-02,\n",
       "        4.26494908e-02, 1.28383671e-02, 2.63861085e-01, 9.35677605e-03,\n",
       "        5.04830708e-03, 4.44338062e-02, 1.45051789e-01, 2.99416833e-02],\n",
       "       [1.19266055e-01, 3.28158080e-02, 3.66972477e-02, 2.11714891e-03,\n",
       "        1.34086097e-02, 3.17572336e-03, 3.48976711e-01, 1.86661962e-01,\n",
       "        1.76429076e-03, 2.96400847e-02, 1.87014820e-02, 2.06774876e-01],\n",
       "       [3.90554042e-02, 7.08446866e-02, 1.99818347e-02, 3.67847411e-02,\n",
       "        4.54132607e-03, 9.08265213e-03, 2.07084469e-01, 6.81198910e-03,\n",
       "        6.81198910e-03, 1.18074478e-02, 4.90917348e-01, 9.62761126e-02],\n",
       "       [4.19580420e-02, 8.62470862e-02, 2.09790210e-02, 8.93550894e-03,\n",
       "        2.33100233e-03, 9.75135975e-02, 2.49417249e-01, 5.71095571e-02,\n",
       "        1.74825175e-02, 1.94250194e-03, 4.03651904e-01, 1.24320124e-02],\n",
       "       [3.53278461e-02, 6.72338851e-02, 9.17414224e-02, 8.11060760e-02,\n",
       "        5.45639508e-03, 1.34282808e-01, 1.12179784e-01, 2.33977620e-02,\n",
       "        3.67150652e-02, 3.01488948e-02, 1.66651253e-01, 2.15758809e-01],\n",
       "       [1.64732737e-01, 1.50275823e-02, 1.44378923e-01, 2.73920487e-02,\n",
       "        9.51112802e-03, 5.09796462e-02, 6.42952254e-02, 2.47289329e-03,\n",
       "        5.57352102e-02, 1.86037664e-01, 2.03157695e-01, 7.62792467e-02]])"
      ]
     },
     "execution_count": 7,
     "metadata": {},
     "output_type": "execute_result"
    }
   ],
   "source": [
    "transition_matrix"
   ]
  },
  {
   "cell_type": "code",
   "execution_count": 8,
   "metadata": {},
   "outputs": [
    {
     "data": {
      "text/plain": [
       "array([[4.10926208e-01, 1.05284436e-06, 3.22592566e-01, ...,\n",
       "        1.05284436e-06, 1.05284436e-06, 1.05284436e-06],\n",
       "       [1.89786452e-06, 3.81470769e-04, 1.89786452e-06, ...,\n",
       "        1.89786452e-06, 1.89786452e-06, 1.89786452e-06],\n",
       "       [1.25155192e-06, 1.25155192e-06, 1.25155192e-06, ...,\n",
       "        1.25155192e-06, 1.25155192e-06, 1.25155192e-06],\n",
       "       ...,\n",
       "       [3.70633932e-06, 3.70633932e-06, 3.70633932e-06, ...,\n",
       "        3.70633932e-06, 3.70633932e-06, 3.70633932e-06],\n",
       "       [9.14320824e-07, 9.14320824e-07, 9.14320824e-07, ...,\n",
       "        9.14320824e-07, 9.14320824e-07, 9.14320824e-07],\n",
       "       [1.85836301e-06, 1.85836301e-06, 1.85836301e-06, ...,\n",
       "        1.85836301e-06, 1.85836301e-06, 1.85836301e-06]])"
      ]
     },
     "execution_count": 8,
     "metadata": {},
     "output_type": "execute_result"
    }
   ],
   "source": [
    "emit_matrix"
   ]
  },
  {
   "cell_type": "code",
   "execution_count": 9,
   "metadata": {},
   "outputs": [
    {
     "data": {
      "text/plain": [
       "(12,)"
      ]
     },
     "execution_count": 9,
     "metadata": {},
     "output_type": "execute_result"
    }
   ],
   "source": [
    "init_state_matrix.shape"
   ]
  },
  {
   "cell_type": "code",
   "execution_count": 10,
   "metadata": {
    "collapsed": true
   },
   "outputs": [],
   "source": [
    "def log_sum_exp(X):\n",
    "    max_num = np.max(X, axis=0)\n",
    "    return max_num + np.log(np.sum(np.exp(X - max_num), axis=0))\n",
    "\n",
    "def forward(sentence):\n",
    "    log_pi = np.log(init_state_matrix)\n",
    "    log_E = np.log(emit_matrix)\n",
    "    log_tran = np.log(transition_matrix)\n",
    "\n",
    "    alpha = log_pi + log_E[:, sentence[0][0]]\n",
    "    for i in range(1, len(sentence)):\n",
    "        alpha = log_sum_exp(log_tran + np.expand_dims(alpha, axis=1) + np.expand_dims(log_E[:,sentence[i][0]], axis=0))\n",
    "    return log_sum_exp(alpha)"
   ]
  },
  {
   "cell_type": "code",
   "execution_count": 11,
   "metadata": {},
   "outputs": [
    {
     "name": "stdout",
     "output_type": "stream",
     "text": [
      "169.4387479584893\n"
     ]
    }
   ],
   "source": [
    "negative_log = []\n",
    "for sentence in processed_train_data:\n",
    "    alpha = forward(sentence)\n",
    "    negative_log.append(alpha)\n",
    "print(-np.mean(negative_log))"
   ]
  },
  {
   "cell_type": "code",
   "execution_count": 12,
   "metadata": {
    "collapsed": true
   },
   "outputs": [],
   "source": [
    "processed_test_data = preprocess(test_data)\n",
    "def predict_y(sentence):\n",
    "    predict = []\n",
    "    labels = []\n",
    "    alpha = np.zeros((len(sentence), tags_num))\n",
    "    alpha[0,:] = init_state_matrix * emit_matrix[:, sentence[0][0]]\n",
    "    alpha_sum = np.sum(alpha[0,:])\n",
    "    alpha[0,:] = alpha[0,:] / alpha_sum\n",
    "    predict.append(np.argmax(alpha[0,:]))\n",
    "    labels.append(sentence[0][1])\n",
    "    for i in range(1, len(sentence)):\n",
    "        alpha[i,:] = np.dot(alpha[i-1,:], transition_matrix) * emit_matrix[:, sentence[i][0]]\n",
    "        alpha_sum = np.sum(alpha[i,:])\n",
    "        alpha[i,:] = alpha[i,:] / alpha_sum\n",
    "        predict.append(np.argmax(alpha[i,:]))\n",
    "        labels.append(sentence[i][1])\n",
    "    return predict, labels"
   ]
  },
  {
   "cell_type": "code",
   "execution_count": 13,
   "metadata": {
    "collapsed": true
   },
   "outputs": [],
   "source": [
    "predict = []\n",
    "labels = []\n",
    "for sentence in processed_test_data:\n",
    "    p,l = predict_y(sentence)\n",
    "    predict.extend(p)\n",
    "    labels.extend(l)\n",
    "predict = np.array(predict)\n",
    "labels = np.array(labels)\n",
    "acc = sum(predict == labels) / len(labels)"
   ]
  },
  {
   "cell_type": "code",
   "execution_count": 14,
   "metadata": {},
   "outputs": [
    {
     "data": {
      "text/plain": [
       "0.9155109668535458"
      ]
     },
     "execution_count": 14,
     "metadata": {},
     "output_type": "execute_result"
    }
   ],
   "source": [
    "acc"
   ]
  },
  {
   "cell_type": "code",
   "execution_count": 15,
   "metadata": {},
   "outputs": [
    {
     "name": "stdout",
     "output_type": "stream",
     "text": [
      "0.925592603521196\n"
     ]
    }
   ],
   "source": [
    "def viterbi(sentence):\n",
    "    V = np.zeros((len(sentence), tags_num, 2))\n",
    "    labels = []\n",
    "    V[0,:,0] = init_state_matrix * emit_matrix[:, sentence[0][0]]\n",
    "    V[0,:,1] = np.ones(tags_num) * -1\n",
    "    labels.append(sentence[0][1])\n",
    "\n",
    "    for t in range(1, len(sentence)):\n",
    "        labels.append(sentence[t][1])\n",
    "        for i in range(tags_num):\n",
    "            max_pro = V[t-1, 0, 0] * transition_matrix[0][i] * emit_matrix[i][sentence[t][0]]\n",
    "            pre_max_index = 0\n",
    "            for pre_index in range(1, tags_num):\n",
    "                prob = V[t - 1, pre_index, 0] * transition_matrix[pre_index][i] * emit_matrix[i][sentence[t][0]]\n",
    "                if prob > max_pro:\n",
    "                    pre_max_index = pre_index\n",
    "                    max_pro = prob\n",
    "\n",
    "            pro = max_pro\n",
    "            V[t,i,:] = [pro, pre_max_index]\n",
    "    \n",
    "    opt = []    \n",
    "    max_pro = max(V[-1,:,0])\n",
    "    previous = int(V[-1,np.argmax(V[-1,:,0]),1])\n",
    "    opt.append(np.argmax(V[-1,:,0]))\n",
    "\n",
    "\n",
    "    for t in range(len(sentence) - 2, -1, -1):\n",
    "        opt.insert(0, int(V[t+1,previous,1]))\n",
    "        previous = int(V[t+1,previous,1])\n",
    "    return opt, labels\n",
    "\n",
    "test_data = np.load(test_file)\n",
    "processed_test_data = preprocess(test_data)\n",
    "predict = []\n",
    "labels = []\n",
    "for sentence in processed_test_data:\n",
    "    p,l = viterbi(sentence)\n",
    "    predict.extend(p)\n",
    "    labels.extend(l)\n",
    "predict = np.array(predict)\n",
    "labels = np.array(labels)\n",
    "acc = sum(predict == labels) / len(labels)\n",
    "print(acc)"
   ]
  },
  {
   "cell_type": "code",
   "execution_count": 23,
   "metadata": {},
   "outputs": [
    {
     "data": {
      "image/png": "[encoded data removed]",
      "text/plain": [
       "<Figure size 432x288 with 2 Axes>"
      ]
     },
     "metadata": {},
     "output_type": "display_data"
    }
   ],
   "source": [
    "from sklearn.metrics import confusion_matrix\n",
    "import matplotlib.pyplot as plt\n",
    "%matplotlib inline\n",
    "cm = confusion_matrix(labels, predict)\n",
    "ax = plt.subplot()\n",
    "import seaborn as sn\n",
    "sn.heatmap(cm, annot=True, ax=ax)\n",
    "ax.set_xlabel('Predicted labels');ax.set_ylabel('True labels'); \n",
    "ax.set_title('Confusion Matrix'); \n",
    "# ax.yaxis.set_ticklabels(['health', 'business']);\n"
   ]
  },
  {
   "cell_type": "code",
   "execution_count": null,
   "metadata": {
    "collapsed": true
   },
   "outputs": [],
   "source": []
  }
 ],
 "metadata": {
  "kernelspec": {
   "display_name": "Python 3",
   "language": "python",
   "name": "python3"
  },
  "language_info": {
   "codemirror_mode": {
    "name": "ipython",
    "version": 3
   },
   "file_extension": ".py",
   "mimetype": "text/x-python",
   "name": "python",
   "nbconvert_exporter": "python",
   "pygments_lexer": "ipython3",
   "version": "3.6.8"
  }
 },
 "nbformat": 4,
 "nbformat_minor": 2
}
